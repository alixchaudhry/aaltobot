{
  "nbformat": 4,
  "nbformat_minor": 0,
  "metadata": {
    "colab": {
      "provenance": [],
      "authorship_tag": "ABX9TyOp8ULMujLvj7NpQLhjG7cn"
    },
    "kernelspec": {
      "name": "python3",
      "display_name": "Python 3"
    },
    "language_info": {
      "name": "python"
    }
  },
  "cells": [
    {
      "cell_type": "code",
      "source": [
        "!pip install pinecone-client\n",
        "!pip install openai\n",
        "!pip install tiktoken\n",
        "\n",
        "import tiktoken\n",
        "import pandas as pd\n",
        "import numpy as np\n",
        "import openai\n",
        "import json\n",
        "import urllib.request\n",
        "import urllib.parse\n",
        "import collections\n",
        "import tqdm\n",
        "import pinecone\n",
        "import re\n",
        "import chardet\n",
        "\n",
        "from openai.embeddings_utils import get_embedding\n",
        "from itertools import product"
      ],
      "metadata": {
        "colab": {
          "base_uri": "https://localhost:8080/"
        },
        "id": "igT-eDn9H549",
        "outputId": "055bc2a9-7093-4ada-d911-f3a79731c5ba"
      },
      "execution_count": 32,
      "outputs": [
        {
          "output_type": "stream",
          "name": "stdout",
          "text": [
            "Looking in indexes: https://pypi.org/simple, https://us-python.pkg.dev/colab-wheels/public/simple/\n",
            "Requirement already satisfied: pinecone-client in /usr/local/lib/python3.9/dist-packages (2.2.1)\n",
            "Requirement already satisfied: requests>=2.19.0 in /usr/local/lib/python3.9/dist-packages (from pinecone-client) (2.27.1)\n",
            "Requirement already satisfied: tqdm>=4.64.1 in /usr/local/lib/python3.9/dist-packages (from pinecone-client) (4.65.0)\n",
            "Requirement already satisfied: numpy in /usr/local/lib/python3.9/dist-packages (from pinecone-client) (1.22.4)\n",
            "Requirement already satisfied: python-dateutil>=2.5.3 in /usr/local/lib/python3.9/dist-packages (from pinecone-client) (2.8.2)\n",
            "Requirement already satisfied: loguru>=0.5.0 in /usr/local/lib/python3.9/dist-packages (from pinecone-client) (0.7.0)\n",
            "Requirement already satisfied: typing-extensions>=3.7.4 in /usr/local/lib/python3.9/dist-packages (from pinecone-client) (4.5.0)\n",
            "Requirement already satisfied: dnspython>=2.0.0 in /usr/local/lib/python3.9/dist-packages (from pinecone-client) (2.3.0)\n",
            "Requirement already satisfied: urllib3>=1.21.1 in /usr/local/lib/python3.9/dist-packages (from pinecone-client) (1.26.15)\n",
            "Requirement already satisfied: pyyaml>=5.4 in /usr/local/lib/python3.9/dist-packages (from pinecone-client) (6.0)\n",
            "Requirement already satisfied: six>=1.5 in /usr/local/lib/python3.9/dist-packages (from python-dateutil>=2.5.3->pinecone-client) (1.16.0)\n",
            "Requirement already satisfied: idna<4,>=2.5 in /usr/local/lib/python3.9/dist-packages (from requests>=2.19.0->pinecone-client) (3.4)\n",
            "Requirement already satisfied: charset-normalizer~=2.0.0 in /usr/local/lib/python3.9/dist-packages (from requests>=2.19.0->pinecone-client) (2.0.12)\n",
            "Requirement already satisfied: certifi>=2017.4.17 in /usr/local/lib/python3.9/dist-packages (from requests>=2.19.0->pinecone-client) (2022.12.7)\n",
            "Looking in indexes: https://pypi.org/simple, https://us-python.pkg.dev/colab-wheels/public/simple/\n",
            "Requirement already satisfied: openai in /usr/local/lib/python3.9/dist-packages (0.27.4)\n",
            "Requirement already satisfied: aiohttp in /usr/local/lib/python3.9/dist-packages (from openai) (3.8.4)\n",
            "Requirement already satisfied: requests>=2.20 in /usr/local/lib/python3.9/dist-packages (from openai) (2.27.1)\n",
            "Requirement already satisfied: tqdm in /usr/local/lib/python3.9/dist-packages (from openai) (4.65.0)\n",
            "Requirement already satisfied: idna<4,>=2.5 in /usr/local/lib/python3.9/dist-packages (from requests>=2.20->openai) (3.4)\n",
            "Requirement already satisfied: certifi>=2017.4.17 in /usr/local/lib/python3.9/dist-packages (from requests>=2.20->openai) (2022.12.7)\n",
            "Requirement already satisfied: urllib3<1.27,>=1.21.1 in /usr/local/lib/python3.9/dist-packages (from requests>=2.20->openai) (1.26.15)\n",
            "Requirement already satisfied: charset-normalizer~=2.0.0 in /usr/local/lib/python3.9/dist-packages (from requests>=2.20->openai) (2.0.12)\n",
            "Requirement already satisfied: attrs>=17.3.0 in /usr/local/lib/python3.9/dist-packages (from aiohttp->openai) (22.2.0)\n",
            "Requirement already satisfied: async-timeout<5.0,>=4.0.0a3 in /usr/local/lib/python3.9/dist-packages (from aiohttp->openai) (4.0.2)\n",
            "Requirement already satisfied: frozenlist>=1.1.1 in /usr/local/lib/python3.9/dist-packages (from aiohttp->openai) (1.3.3)\n",
            "Requirement already satisfied: aiosignal>=1.1.2 in /usr/local/lib/python3.9/dist-packages (from aiohttp->openai) (1.3.1)\n",
            "Requirement already satisfied: yarl<2.0,>=1.0 in /usr/local/lib/python3.9/dist-packages (from aiohttp->openai) (1.8.2)\n",
            "Requirement already satisfied: multidict<7.0,>=4.5 in /usr/local/lib/python3.9/dist-packages (from aiohttp->openai) (6.0.4)\n",
            "Looking in indexes: https://pypi.org/simple, https://us-python.pkg.dev/colab-wheels/public/simple/\n",
            "Requirement already satisfied: tiktoken in /usr/local/lib/python3.9/dist-packages (0.3.3)\n",
            "Requirement already satisfied: requests>=2.26.0 in /usr/local/lib/python3.9/dist-packages (from tiktoken) (2.27.1)\n",
            "Requirement already satisfied: regex>=2022.1.18 in /usr/local/lib/python3.9/dist-packages (from tiktoken) (2022.10.31)\n",
            "Requirement already satisfied: charset-normalizer~=2.0.0 in /usr/local/lib/python3.9/dist-packages (from requests>=2.26.0->tiktoken) (2.0.12)\n",
            "Requirement already satisfied: idna<4,>=2.5 in /usr/local/lib/python3.9/dist-packages (from requests>=2.26.0->tiktoken) (3.4)\n",
            "Requirement already satisfied: certifi>=2017.4.17 in /usr/local/lib/python3.9/dist-packages (from requests>=2.26.0->tiktoken) (2022.12.7)\n",
            "Requirement already satisfied: urllib3<1.27,>=1.21.1 in /usr/local/lib/python3.9/dist-packages (from requests>=2.26.0->tiktoken) (1.26.15)\n"
          ]
        }
      ]
    },
    {
      "cell_type": "code",
      "source": [
        "OPENAI_API_KEY = '<enter your openai api key>'\n",
        "PINECONE_API_KEY = '<enter your pinecone api key>'\n",
        "INDEX_NAME, INDEX_DIMENSION = 'aaltobot-search', 1536\n",
        "openai.api_key = OPENAI_API_KEY"
      ],
      "metadata": {
        "id": "jeT34W__NxuU"
      },
      "execution_count": 33,
      "outputs": []
    },
    {
      "cell_type": "code",
      "source": [
        "pinecone.init(\n",
        "    api_key=PINECONE_API_KEY,\n",
        "    environment='us-west1-gcp'  # find in pinecone console next to api key\n",
        ")\n",
        "\n",
        "if INDEX_NAME not in pinecone.list_indexes():\n",
        "    pinecone.create_index(name=INDEX_NAME, dimension=INDEX_DIMENSION)\n",
        "\n",
        "index = pinecone.Index(index_name=INDEX_NAME)"
      ],
      "metadata": {
        "id": "crKti29G4sYz"
      },
      "execution_count": 34,
      "outputs": []
    },
    {
      "cell_type": "code",
      "source": [
        "clientURL = \"https://aalto.fi\"\n",
        "CSV_Filepath = 'Aalto Admissions Data.csv'"
      ],
      "metadata": {
        "id": "oe2SPtoymWeY"
      },
      "execution_count": 35,
      "outputs": []
    },
    {
      "cell_type": "code",
      "source": [
        "with open(CSV_Filepath, 'rb') as file:\n",
        "    detected_encoding = chardet.detect(file.read())['encoding']\n",
        "    \n",
        "with open(CSV_Filepath, 'r', encoding=detected_encoding) as file:\n",
        "    df = pd.read_csv(file)"
      ],
      "metadata": {
        "id": "JCh8e-2JPfbG"
      },
      "execution_count": 36,
      "outputs": []
    },
    {
      "cell_type": "code",
      "source": [
        "def get_num_of_tokens(message, model=\"gpt-3.5-turbo-0301\"):\n",
        "    \"\"\"Returns the number of tokens used by a list of messages.\"\"\"\n",
        "    try:\n",
        "        encoding = tiktoken.encoding_for_model(model)\n",
        "    except KeyError:\n",
        "        print(\"Warning: model not found. Using cl100k_base encoding.\")\n",
        "        encoding = tiktoken.get_encoding(\"cl100k_base\")\n",
        "    if model == \"gpt-3.5-turbo\":\n",
        "        print(\"Warning: gpt-3.5-turbo may change over time. Returning num tokens assuming gpt-3.5-turbo-0301.\")\n",
        "        return num_tokens_from_messages(messages, model=\"gpt-3.5-turbo-0301\")\n",
        "    elif model == \"gpt-4\":\n",
        "        print(\"Warning: gpt-4 may change over time. Returning num tokens assuming gpt-4-0314.\")\n",
        "        return num_tokens_from_messages(messages, model=\"gpt-4-0314\")\n",
        "    elif model == \"gpt-3.5-turbo-0301\":\n",
        "        tokens_per_message = 4  # every message follows <|start|>{role/name}\\n{content}<|end|>\\n\n",
        "        tokens_per_name = -1  # if there's a name, the role is omitted\n",
        "    elif model == \"gpt-4-0314\":\n",
        "        tokens_per_message = 3\n",
        "        tokens_per_name = 1\n",
        "    else:\n",
        "        raise NotImplementedError(f\"\"\"num_tokens_from_messages() is not implemented for model {model}.\"\"\")\n",
        "    num_tokens = 0\n",
        "    num_tokens += tokens_per_message\n",
        "    num_tokens += len(encoding.encode(message))\n",
        "    num_tokens += tokens_per_name\n",
        "    num_tokens += 3  # every reply is primed with <|start|>assistant<|message|>\n",
        "    return num_tokens"
      ],
      "metadata": {
        "id": "R3EniXRzdkEi"
      },
      "execution_count": 37,
      "outputs": []
    },
    {
      "cell_type": "code",
      "source": [
        "def split_sentences(text):\n",
        "    sentence_delimiters = re.compile(u'[.!?]')\n",
        "    sentences = sentence_delimiters.split(text)\n",
        "    return [s.strip() for s in sentences if s.strip()]\n",
        "\n",
        "def split_text_by_tokens(df, column='Text', max_tokens=600):\n",
        "    new_rows = []\n",
        "\n",
        "    for index, row in df.iterrows():\n",
        "        text = row[column]\n",
        "        token_count = get_num_of_tokens(text)\n",
        "        \n",
        "        if token_count <= max_tokens:\n",
        "            new_rows.append(row)\n",
        "        else:\n",
        "            sentences = split_sentences(text)\n",
        "            partial_text = ''\n",
        "            token_count = 0\n",
        "            title_counter = 1\n",
        "            \n",
        "            for sentence in sentences:\n",
        "                sentence_tokens = get_num_of_tokens(sentence)\n",
        "                \n",
        "                if token_count + sentence_tokens <= max_tokens:\n",
        "                    partial_text += ' ' + sentence\n",
        "                    token_count += sentence_tokens\n",
        "                else:\n",
        "                    new_row = row.copy()\n",
        "                    new_row[column] = partial_text.strip()\n",
        "                    new_row['Title'] = f\"{row['Title']} {title_counter}\"\n",
        "                    new_rows.append(new_row)\n",
        "                    \n",
        "                    partial_text = sentence\n",
        "                    token_count = sentence_tokens\n",
        "                    title_counter += 1\n",
        "            \n",
        "            new_row = row.copy()\n",
        "            new_row[column] = partial_text.strip()\n",
        "            new_row['Title'] = f\"{row['Title']} {title_counter}\"\n",
        "            new_rows.append(new_row)\n",
        "\n",
        "    return pd.DataFrame(new_rows)"
      ],
      "metadata": {
        "id": "PTRuEw1Gjzdm"
      },
      "execution_count": 38,
      "outputs": []
    },
    {
      "cell_type": "code",
      "source": [
        "def add_num_of_tokens(df, column='Text'):\n",
        "    token_counts = []\n",
        "    for text in df[column]:\n",
        "        token_count = get_num_of_tokens(text)\n",
        "        token_counts.append(token_count)\n",
        "\n",
        "    df['Tokens'] = token_counts\n",
        "    return df"
      ],
      "metadata": {
        "id": "03E4YtXyd0m6"
      },
      "execution_count": 39,
      "outputs": []
    },
    {
      "cell_type": "code",
      "source": [
        "df_without_ID = df.drop(columns=['ID'])\n",
        "df_chunked = split_text_by_tokens(df_without_ID)\n",
        "df_chunked_tokens = add_num_of_tokens(df_chunked, column='Text')\n",
        "df_chunked_tokens.info()"
      ],
      "metadata": {
        "colab": {
          "base_uri": "https://localhost:8080/"
        },
        "id": "5fNYeYRjj7ic",
        "outputId": "37a1c311-aa26-4f7c-d72b-82093f2fe5c2"
      },
      "execution_count": 42,
      "outputs": [
        {
          "output_type": "stream",
          "name": "stdout",
          "text": [
            "<class 'pandas.core.frame.DataFrame'>\n",
            "Int64Index: 118 entries, 0 to 117\n",
            "Data columns (total 4 columns):\n",
            " #   Column  Non-Null Count  Dtype \n",
            "---  ------  --------------  ----- \n",
            " 0   Title   118 non-null    object\n",
            " 1   Source  118 non-null    object\n",
            " 2   Text    118 non-null    object\n",
            " 3   Tokens  118 non-null    int64 \n",
            "dtypes: int64(1), object(3)\n",
            "memory usage: 4.6+ KB\n"
          ]
        }
      ]
    },
    {
      "cell_type": "code",
      "source": [
        "def get_metadata_from_df_row(df_row):\n",
        "    \"\"\"Return vector metadata.\"\"\"\n",
        "    metadata = {\n",
        "        'Title': df_row[\"Title\"],\n",
        "        'Text': df_row[\"Text\"],\n",
        "        'Source': df_row[\"Source\"],\n",
        "        'Tokens': get_num_of_tokens(df_row[\"Text\"]),\n",
        "    }\n",
        "    return metadata\n",
        "\n",
        "def get_all_metadata_from_df(df):\n",
        "    all_metadata = []\n",
        "    for _, df_row in df.iterrows():\n",
        "        metadata = get_metadata_from_df_row(df_row)\n",
        "        all_metadata.append(metadata)\n",
        "    return all_metadata\n",
        "\n",
        "def get_processed_df_for_pinecone(df):\n",
        "    df = pd.DataFrame({\n",
        "        \"ID\": df['Title'],\n",
        "        \"Text\": df['Text'],\n",
        "        \"Metadata\": get_all_metadata_from_df(df),\n",
        "    })\n",
        "    \n",
        "    return df"
      ],
      "metadata": {
        "id": "XZ36qdK9fiKV"
      },
      "execution_count": 52,
      "outputs": []
    },
    {
      "cell_type": "code",
      "source": [
        "df_processed = get_processed_df_for_pinecone(df_chunked_tokens)"
      ],
      "metadata": {
        "id": "TubH-tlIq4ki"
      },
      "execution_count": 53,
      "outputs": []
    },
    {
      "cell_type": "code",
      "source": [
        "df_processed.head()"
      ],
      "metadata": {
        "colab": {
          "base_uri": "https://localhost:8080/",
          "height": 2094
        },
        "id": "xo1HTJ1-s8xb",
        "outputId": "42657ce0-67bf-4069-a1e8-c529f1e74e18"
      },
      "execution_count": 54,
      "outputs": [
        {
          "output_type": "execute_result",
          "data": {
            "text/plain": [
              "                                                  ID  \\\n",
              "0                               Admission Services 1   \n",
              "1                               Admission Services 2   \n",
              "2             Admission Services Contact Information   \n",
              "3  Admission Services Applying to Bachelors Progr...   \n",
              "4  Admission Services Applying to Bachelors Progr...   \n",
              "\n",
              "                                                Text  \\\n",
              "0  How to apply to Aalto? Aalto University has an...   \n",
              "1  Admission to the Bachelor's Programme in Inter...   \n",
              "2  Contact Information for Aalto University Admis...   \n",
              "3  Applying to Bachelor's Programmes: On this pag...   \n",
              "4  Field of Science and Technology: Aalto Bachelo...   \n",
              "\n",
              "                                            Metadata  \n",
              "0  {'Title': 'Admission Services 1', 'Text': 'How...  \n",
              "1  {'Title': 'Admission Services 2', 'Text': 'Adm...  \n",
              "2  {'Title': 'Admission Services Contact Informat...  \n",
              "3  {'Title': 'Admission Services Applying to Bach...  \n",
              "4  {'Title': 'Admission Services Applying to Bach...  "
            ],
            "text/html": [
              "\n",
              "  <div id=\"df-faa1526b-7b25-45bc-ac8e-620a60086eae\">\n",
              "    <div class=\"colab-df-container\">\n",
              "      <div>\n",
              "<style scoped>\n",
              "    .dataframe tbody tr th:only-of-type {\n",
              "        vertical-align: middle;\n",
              "    }\n",
              "\n",
              "    .dataframe tbody tr th {\n",
              "        vertical-align: top;\n",
              "    }\n",
              "\n",
              "    .dataframe thead th {\n",
              "        text-align: right;\n",
              "    }\n",
              "</style>\n",
              "<table border=\"1\" class=\"dataframe\">\n",
              "  <thead>\n",
              "    <tr style=\"text-align: right;\">\n",
              "      <th></th>\n",
              "      <th>ID</th>\n",
              "      <th>Text</th>\n",
              "      <th>Metadata</th>\n",
              "    </tr>\n",
              "  </thead>\n",
              "  <tbody>\n",
              "    <tr>\n",
              "      <th>0</th>\n",
              "      <td>Admission Services 1</td>\n",
              "      <td>How to apply to Aalto? Aalto University has an...</td>\n",
              "      <td>{'Title': 'Admission Services 1', 'Text': 'How...</td>\n",
              "    </tr>\n",
              "    <tr>\n",
              "      <th>1</th>\n",
              "      <td>Admission Services 2</td>\n",
              "      <td>Admission to the Bachelor's Programme in Inter...</td>\n",
              "      <td>{'Title': 'Admission Services 2', 'Text': 'Adm...</td>\n",
              "    </tr>\n",
              "    <tr>\n",
              "      <th>2</th>\n",
              "      <td>Admission Services Contact Information</td>\n",
              "      <td>Contact Information for Aalto University Admis...</td>\n",
              "      <td>{'Title': 'Admission Services Contact Informat...</td>\n",
              "    </tr>\n",
              "    <tr>\n",
              "      <th>3</th>\n",
              "      <td>Admission Services Applying to Bachelors Progr...</td>\n",
              "      <td>Applying to Bachelor's Programmes: On this pag...</td>\n",
              "      <td>{'Title': 'Admission Services Applying to Bach...</td>\n",
              "    </tr>\n",
              "    <tr>\n",
              "      <th>4</th>\n",
              "      <td>Admission Services Applying to Bachelors Progr...</td>\n",
              "      <td>Field of Science and Technology: Aalto Bachelo...</td>\n",
              "      <td>{'Title': 'Admission Services Applying to Bach...</td>\n",
              "    </tr>\n",
              "  </tbody>\n",
              "</table>\n",
              "</div>\n",
              "      <button class=\"colab-df-convert\" onclick=\"convertToInteractive('df-faa1526b-7b25-45bc-ac8e-620a60086eae')\"\n",
              "              title=\"Convert this dataframe to an interactive table.\"\n",
              "              style=\"display:none;\">\n",
              "        \n",
              "  <svg xmlns=\"http://www.w3.org/2000/svg\" height=\"24px\"viewBox=\"0 0 24 24\"\n",
              "       width=\"24px\">\n",
              "    <path d=\"M0 0h24v24H0V0z\" fill=\"none\"/>\n",
              "    <path d=\"M18.56 5.44l.94 2.06.94-2.06 2.06-.94-2.06-.94-.94-2.06-.94 2.06-2.06.94zm-11 1L8.5 8.5l.94-2.06 2.06-.94-2.06-.94L8.5 2.5l-.94 2.06-2.06.94zm10 10l.94 2.06.94-2.06 2.06-.94-2.06-.94-.94-2.06-.94 2.06-2.06.94z\"/><path d=\"M17.41 7.96l-1.37-1.37c-.4-.4-.92-.59-1.43-.59-.52 0-1.04.2-1.43.59L10.3 9.45l-7.72 7.72c-.78.78-.78 2.05 0 2.83L4 21.41c.39.39.9.59 1.41.59.51 0 1.02-.2 1.41-.59l7.78-7.78 2.81-2.81c.8-.78.8-2.07 0-2.86zM5.41 20L4 18.59l7.72-7.72 1.47 1.35L5.41 20z\"/>\n",
              "  </svg>\n",
              "      </button>\n",
              "      \n",
              "  <style>\n",
              "    .colab-df-container {\n",
              "      display:flex;\n",
              "      flex-wrap:wrap;\n",
              "      gap: 12px;\n",
              "    }\n",
              "\n",
              "    .colab-df-convert {\n",
              "      background-color: #E8F0FE;\n",
              "      border: none;\n",
              "      border-radius: 50%;\n",
              "      cursor: pointer;\n",
              "      display: none;\n",
              "      fill: #1967D2;\n",
              "      height: 32px;\n",
              "      padding: 0 0 0 0;\n",
              "      width: 32px;\n",
              "    }\n",
              "\n",
              "    .colab-df-convert:hover {\n",
              "      background-color: #E2EBFA;\n",
              "      box-shadow: 0px 1px 2px rgba(60, 64, 67, 0.3), 0px 1px 3px 1px rgba(60, 64, 67, 0.15);\n",
              "      fill: #174EA6;\n",
              "    }\n",
              "\n",
              "    [theme=dark] .colab-df-convert {\n",
              "      background-color: #3B4455;\n",
              "      fill: #D2E3FC;\n",
              "    }\n",
              "\n",
              "    [theme=dark] .colab-df-convert:hover {\n",
              "      background-color: #434B5C;\n",
              "      box-shadow: 0px 1px 3px 1px rgba(0, 0, 0, 0.15);\n",
              "      filter: drop-shadow(0px 1px 2px rgba(0, 0, 0, 0.3));\n",
              "      fill: #FFFFFF;\n",
              "    }\n",
              "  </style>\n",
              "\n",
              "      <script>\n",
              "        const buttonEl =\n",
              "          document.querySelector('#df-faa1526b-7b25-45bc-ac8e-620a60086eae button.colab-df-convert');\n",
              "        buttonEl.style.display =\n",
              "          google.colab.kernel.accessAllowed ? 'block' : 'none';\n",
              "\n",
              "        async function convertToInteractive(key) {\n",
              "          const element = document.querySelector('#df-faa1526b-7b25-45bc-ac8e-620a60086eae');\n",
              "          const dataTable =\n",
              "            await google.colab.kernel.invokeFunction('convertToInteractive',\n",
              "                                                     [key], {});\n",
              "          if (!dataTable) return;\n",
              "\n",
              "          const docLinkHtml = 'Like what you see? Visit the ' +\n",
              "            '<a target=\"_blank\" href=https://colab.research.google.com/notebooks/data_table.ipynb>data table notebook</a>'\n",
              "            + ' to learn more about interactive tables.';\n",
              "          element.innerHTML = '';\n",
              "          dataTable['output_type'] = 'display_data';\n",
              "          await google.colab.output.renderOutput(dataTable, element);\n",
              "          const docLink = document.createElement('div');\n",
              "          docLink.innerHTML = docLinkHtml;\n",
              "          element.appendChild(docLink);\n",
              "        }\n",
              "      </script>\n",
              "    </div>\n",
              "  </div>\n",
              "  "
            ]
          },
          "metadata": {},
          "execution_count": 54
        }
      ]
    },
    {
      "cell_type": "code",
      "source": [
        "def get_metadatas_from_df(df, column=\"Metadata\"):\n",
        "    return df[column].tolist()\n",
        "\n",
        "def get_embeddings_from_df(df, column=\"Text\"):\n",
        "    # Encode the 'Text' column using the OpenAI Embedding Ada 002 Model\n",
        "    embeddings = []\n",
        "    text_list = df[column]\n",
        "    for text in text_list:\n",
        "        embedding = get_embedding(text, engine=\"text-embedding-ada-002\")\n",
        "        embeddings.append(embedding)\n",
        "    return embeddings\n",
        "\n",
        "def get_ids_from_df(df, column=\"ID\"):\n",
        "    return df[column].tolist()"
      ],
      "metadata": {
        "id": "h49usXGwtjH0"
      },
      "execution_count": 55,
      "outputs": []
    },
    {
      "cell_type": "code",
      "source": [
        "def get_vectors_to_upload_to_pinecone(df):\n",
        "    \"\"\"Return list of tuples like (vector_id, vector_values, vector_metadata).\"\"\"\n",
        "    # create vector ids\n",
        "    vector_ids = get_ids_from_df(df)\n",
        "    # create (embeddings) vector values\n",
        "    vector_values = get_embeddings_from_df(df)\n",
        "    # create vector metadatas\n",
        "    vector_metadata = get_metadatas_from_df(df)\n",
        "    return list(zip(vector_ids, vector_values, vector_metadata))"
      ],
      "metadata": {
        "id": "TzVlazUCt5Dv"
      },
      "execution_count": 56,
      "outputs": []
    },
    {
      "cell_type": "code",
      "source": [
        "pinecone_vectors = get_vectors_to_upload_to_pinecone(df_processed)"
      ],
      "metadata": {
        "id": "pILo0Str2qTh"
      },
      "execution_count": 57,
      "outputs": []
    },
    {
      "cell_type": "code",
      "source": [
        "print(pinecone_vectors[0])\n",
        "type(pinecone_vectors[0])"
      ],
      "metadata": {
        "colab": {
          "base_uri": "https://localhost:8080/"
        },
        "id": "N1vXm8IlSR4c",
        "outputId": "38c0f3e4-f482-47b0-b9a0-957cf8376e06"
      },
      "execution_count": 59,
      "outputs": [
        {
          "output_type": "stream",
          "name": "stdout",
          "text": [
            "('Admission Services 1', [0.00721688661724329, 0.0013942444929853082, 0.012835748493671417, -0.032811060547828674, -0.02143157459795475, 0.010142303071916103, -0.03203782066702843, -0.0007325623300857842, -0.02382861264050007, -0.014549758285284042, 0.007551955990493298, -0.00532567547634244, -0.006630514282733202, -0.021380025893449783, 0.0025516848545521498, -0.03567203879356384, 0.017436513677239418, 0.005087260622531176, 0.004082051571458578, 0.002517855726182461, -0.03425443544983864, 0.007094457279890776, -0.020413478836417198, -0.028068533167243004, -0.017140105366706848, 0.005857276730239391, 0.006591852754354477, -0.027553042396903038, -0.0011550240451470017, -0.019691789522767067, 0.017526723444461823, 0.012378249317407608, -0.028532475233078003, -0.004726416431367397, -0.012520009651780128, -0.002579070394858718, -0.014820392243564129, -0.001212211442179978, 0.011050857603549957, -0.010219627059996128, 0.013828069902956486, 0.0133254649117589, 0.021972842514514923, -0.007017133291810751, 0.004297913517802954, 0.0005384474061429501, -0.009085544385015965, -0.0019073199946433306, -0.011566349305212498, 0.0437910370528698, -0.011211948469281197, 0.03616175428032875, -0.022823402658104897, -0.004736081697046757, 0.015219897963106632, -0.011192617937922478, 0.002656394150108099, 0.03337809816002846, -0.012513565830886364, -0.0004611235926859081, 0.0023245462216436863, -0.01906031183898449, -0.019421156495809555, -0.0049326131120324135, -0.018699469044804573, 0.006015146151185036, -0.029383037239313126, 0.018673693761229515, -0.035182323306798935, 0.010271175764501095, 0.028815995901823044, -0.0009794345824047923, -0.022978050634264946, -0.002717608818784356, 0.021367138251662254, 0.004368793684989214, -0.008396074175834656, -0.0007877360330894589, -0.0028513146098703146, 0.01123772282153368, 0.0018219416961073875, -0.00930462870746851, 0.001714010490104556, 0.001765559776686132, 0.011469694785773754, 0.0333523266017437, 0.0013201425317674875, 0.004552437923848629, -0.02559417299926281, -0.02587769366800785, -0.017977779731154442, 0.016637500375509262, 0.009729909710586071, 0.022514108568429947, -0.012726206332445145, -0.0218955185264349, -0.013067719526588917, 0.022526996210217476, -0.012223601341247559, -0.014601307921111584, -0.009768571704626083, 0.0037566472310572863, -0.010728674940764904, 0.0018799344543367624, -0.01360898558050394, 0.0025597393978387117, -0.000964130915235728, -0.002757881535217166, 0.02274608053267002, -0.019008763134479523, -0.018635032698512077, 0.051703836768865585, 0.013699197210371494, -0.029254164546728134, 0.017320526763796806, -0.02011707052588463, 0.010200295597314835, -0.01041937991976738, 0.010271175764501095, -0.020452139899134636, 0.011952968314290047, 0.029073743149638176, -0.0002134458627551794, -0.010760893113911152, 0.00929174106568098, 0.0008183433674275875, -0.013583211228251457, -0.0068238237872719765, -0.006585408933460712, -0.0003366806486155838, 0.018119540065526962, 0.013364126905798912, -0.015284334309399128, 0.04840468987822533, -0.02244967222213745, 0.016031797975301743, -0.015207010321319103, 0.016134895384311676, -0.035491615533828735, -0.03144500404596329, 0.030439795926213264, 0.013518774881958961, -0.0128615228459239, -0.022359460592269897, 0.0029753546696156263, 0.02574881911277771, 0.014923490583896637, -0.010851104743778706, 0.011489025317132473, 0.02737261913716793, 0.01243624184280634, -0.014472435228526592, -0.01563229225575924, 0.007435970474034548, -0.0014941210392862558, -0.0035375631414353848, 0.0034602393861860037, 0.012358917854726315, -0.03322345390915871, -0.006314775440841913, -0.002724052406847477, -0.01679214835166931, -0.0025677939411252737, 0.019910873845219612, -0.01466574426740408, 0.0054094428196549416, 0.014498209580779076, -0.005902382079511881, 0.0072104427963495255, -0.0014514318900182843, -0.028764447197318077, 0.007423083297908306, -0.02662515640258789, 0.018080877140164375, 0.01860925741493702, 0.02886754646897316, 0.012764868326485157, -0.010612688958644867, -0.0029495800845324993, 0.0052902353927493095, 0.00531601021066308, -0.02456318773329258, 0.014047154225409031, 0.004169040825217962, -0.01890566572546959, 0.01694679632782936, 0.023480655625462532, 0.017900455743074417, 0.006720725446939468, -0.010780224576592445, 0.022514108568429947, 0.012307369150221348, 0.015658065676689148, 0.02393171191215515, -0.645808219909668, -0.007487519644200802, 0.03391936793923378, -0.008131884969770908, 0.025671496987342834, 0.02840360254049301, 0.006282557267695665, -0.0029060854576528072, -0.00721688661724329, 0.004156153183430433, 0.005902382079511881, 0.005818614736199379, 0.026754029095172882, -0.01965312846004963, -0.029666557908058167, -0.012971065007150173, 0.03819794952869415, -0.03208937123417854, 0.017887568101286888, -0.002707943320274353, -0.020477915182709694, 0.02724374644458294, -0.03185739740729332, 0.015812713652849197, -0.0028400381561368704, -0.015374545939266682, 0.008434736169874668, -0.005709072574973106, -0.007158893626183271, 0.018480384722352028, -0.00021384858700912446, 0.008080335333943367, 0.007390865124762058, 0.015207010321319103, 0.039950620383024216, 0.007577730808407068, -0.004752190783619881, 0.031161485239863396, 0.03451218083500862, 0.019305171445012093, -0.006881816778331995, -0.010097197256982327, 0.02278474159538746, -0.0016084958333522081, 0.01592869870364666, 0.0007833060226403177, 0.0029399145860224962, -0.021650658920407295, -0.001323364325799048, 0.007416639477014542, -0.00989100057631731, 0.0053707812912762165, -0.0007228968315757811, -0.01183698233217001, 0.003785643493756652, -0.015529192984104156, 0.025942130014300346, -0.007771040312945843, -0.019975310191512108, -0.005522206891328096, 0.0015351992333307862, 0.015310109592974186, -0.0211222805082798, -0.0009198308689519763, 0.002200505929067731, 0.007120231632143259, -0.011991630308330059, 0.0048649548552930355, 0.027604591101408005, 0.016147783026099205, -0.0001953230967046693, 0.01860925741493702, 0.013493000529706478, -0.003643883392214775, 0.012358917854726315, 0.014768842607736588, 0.0291510671377182, 0.007764596492052078, -0.0027047214098274708, -0.001860603573732078, -0.012474903836846352, 0.00019119514035992324, 0.007938574999570847, -0.034924574196338654, 0.005087260622531176, -0.02007840946316719, -0.022063052281737328, 0.010574026964604855, 0.03322345390915871, 0.01590292528271675, 0.016560176387429237, 0.012313812971115112, 0.01160501129925251, -0.03822372481226921, -0.007236217614263296, 0.014330674894154072, 0.01532299630343914, 0.00721688661724329, -6.982297054491937e-05, -0.005763843655586243, 0.0016785705229267478, -0.012126946821808815, 0.02558128535747528, 0.00789346918463707, 0.03435753285884857, 0.005067929625511169, -0.01546475663781166, 0.003181551583111286, 0.034873027354478836, 0.002791710663586855, -0.0181582011282444, 0.00330881355330348, -0.017140105366706848, -0.0023632082156836987, 0.001918596331961453, -0.021779531612992287, -0.0043752375058829784, 0.014588420279324055, 0.005077594891190529, -0.0022150042932480574, 0.029692333191633224, -0.0004172262561041862, -0.00787413865327835, 0.023480655625462532, -0.011830538511276245, 0.0339709147810936, -0.010238957591354847, -0.004755412694066763, -0.043223995715379715, 0.0011961022391915321, -0.006269670091569424, -0.013557436875998974, 0.009736353531479836, 0.013634760864078999, -0.000835257931612432, 0.0014731792034581304, -0.00022049360268283635, 0.00558342132717371, 0.024666287004947662, -0.030388247221708298, -0.03126458451151848, -0.004826292861253023, 0.014871940948069096, -0.01108951959758997, -0.01887989044189453, 0.013273916207253933, -0.02023305743932724, 0.0010478983167558908, 0.013879619538784027, 0.0017107886960729957, -0.015683840960264206, 0.00251141213811934, -0.008840685710310936, 0.017140105366706848, -0.0030059621203690767, -0.0013716917019337416, 0.009265966713428497, -0.0027884889859706163, -0.03768245875835419, -0.023300234228372574, 0.014936377294361591, 0.02006552182137966, -0.021380025893449783, -0.0007583369151689112, -0.008466954343020916, 0.01635397970676422, 0.017642710357904434, 0.015890037640929222, -0.008447623811662197, -0.02842937782406807, 0.00766149815171957, -0.013125712051987648, 0.00276915798895061, 0.017049893736839294, -0.018093764781951904, -0.014884828589856625, -0.02393171191215515, 0.012384692206978798, -0.02007840946316719, -0.020452139899134636, 0.0072104427963495255, 0.00878913700580597, -0.004082051571458578, -0.007017133291810751, 0.02367396466434002, 0.039228931069374084, -0.006350215524435043, 0.014755954965949059, -0.013054831884801388, 0.010316281579434872, 0.018235525116324425, 0.008621602319180965, -0.012442685663700104, 0.024627625942230225, -0.010992864146828651, 0.010992864146828651, -0.013660535216331482, 0.015129687264561653, -0.010967089794576168, 0.01271976251155138, 0.014330674894154072, 0.005921713076531887, 0.024460090324282646, -0.017294753342866898, -0.0040917168371379375, 0.0015287556452676654, 0.008234983310103416, -0.00033929836354218423, 0.024228118360042572, -0.012938846834003925, 0.02559417299926281, -0.02558128535747528, -0.013647647574543953, -0.02157333493232727, 0.0018106652423739433, 0.014343561604619026, 0.014846166595816612, 0.024524526670575142, -0.03154810518026352, 0.018403060734272003, 0.000627853034529835, 0.0054094428196549416, 0.008273645304143429, 0.007487519644200802, 0.013789407908916473, 0.022243475541472435, 0.020194394513964653, 0.021315589547157288, 0.00037212070310488343, -0.014975039288401604, -0.011972298845648766, 0.0029576346278190613, -0.007616392802447081, 0.015374545939266682, 0.008447623811662197, 0.023609528318047523, 0.0016141339438036084, 0.002485637553036213, -0.0012581223854795098, -0.000794582418166101, 0.008408961817622185, 0.02333889529109001, 0.028764447197318077, 0.003247598884627223, 0.03049134463071823, -0.021934179589152336, 0.02573593333363533, 0.03956400230526924, -0.00030204604263417423, -0.00998121127486229, -0.010677126236259937, 0.004343019332736731, -0.012365361675620079, -0.03139345720410347, 0.026831353083252907, -0.03435753285884857, -0.010690012946724892, 0.007919244468212128, 0.009633254259824753, 0.02677980437874794, 0.03005317784845829, 0.027295295149087906, -0.025645721703767776, -0.023854387924075127, 0.02500135637819767, -0.00967836007475853, 0.0032604862935841084, -0.023725513368844986, 0.0005634165136143565, -0.015593629330396652, -0.019897986203432083, -0.01921495981514454, 0.027192197740077972, -0.006946253124624491, 0.03170274943113327, 0.000942383601795882, -0.005663967225700617, 0.00017931466572917998, 0.02186974324285984, 0.014098702929913998, -0.02799120917916298, -0.03495034947991371, 0.01317726168781519, 0.021650658920407295, 0.0007849169778637588, -0.004488001111894846, 0.027037549763917923, -0.00017790510901249945, -0.011108850128948689, -0.018519045785069466, -0.004723194520920515, -0.013931168243288994, -0.004668423440307379, -0.011572793126106262, -0.020761435851454735, -0.028815995901823044, 0.042940475046634674, 0.0016125231049954891, 0.018248412758111954, -0.004259251523762941, 0.014176026917994022, -0.007390865124762058, -0.025851918384432793, -0.025787482038140297, 0.047399479895830154, 0.013776521198451519, -0.0006081193569116294, 0.0029431364964693785, 0.011972298845648766, -0.02471783570945263, 0.019704677164554596, -0.01532299630343914, -0.016173558309674263, -0.018570594489574432, 0.03291415795683861, 0.004404233768582344, -0.0230682622641325, 0.006095691584050655, 0.021959954872727394, -0.020271718502044678, 0.006337328348308802, 0.0015939975855872035, -0.011894975788891315, 0.004632983356714249, 0.07490096986293793, -0.019588692113757133, -0.01413736492395401, 0.030001627281308174, -0.012101172469556332, -0.015954473987221718, -0.0028996418695896864, -0.026238536462187767, -0.0071266754530370235, -0.0023728737141937017, 0.0007772651151753962, 0.01591581292450428, -0.009994098916649818, 0.015670953318476677, -0.006276113912463188, 0.009729909710586071, 0.01978200115263462, -0.004890729207545519, 0.014034266583621502, 0.012139834463596344, 0.020490802824497223, -0.02456318773329258, 0.02009129710495472, 0.025052905082702637, 0.031908947974443436, 0.017668483778834343, 0.013737859204411507, 0.01802932843565941, 0.01561940461397171, -0.01786179468035698, 0.028300505131483078, 0.0014667354989796877, 0.024485865607857704, 0.019885100424289703, -0.007113788276910782, 0.027604591101408005, 0.0024260336067527533, 0.025413749739527702, 0.001358804409392178, 0.013815182261168957, 0.016431303694844246, -0.005789618473500013, 0.0046941982582211494, -0.0031573877204209566, 0.010915541090071201, -0.017449401319026947, -0.0046813106164336205, 0.020503690466284752, 0.024743610993027687, -0.012983951717615128, 0.03750203549861908, 0.012068954296410084, 0.000277278246358037, -0.0020458584185689688, 0.015580742619931698, 0.002013640245422721, 0.002195673296228051, -0.00031835652771405876, -0.005274126306176186, -0.03260486200451851, -0.006340550258755684, -0.015529192984104156, 0.021160941570997238, -0.00967836007475853, 0.011624341830611229, 0.0003761479747481644, -0.035491615533828735, 0.013067719526588917, 0.00886001717299223, 0.01668904908001423, 0.00043252992327325046, -0.035646263509988785, -0.019562916830182076, -0.0022681644186377525, 0.005850832909345627, 0.02351931668817997, 0.009691247716546059, 0.0009294963092543185, -0.008196321316063404, 0.056601010262966156, -0.008518503047525883, -0.020439254119992256, -0.0002450600150041282, -0.02783656120300293, 0.006363103166222572, 0.031213033944368362, 0.00818987749516964, -0.023699739947915077, -0.0023922044783830643, 0.011315046809613705, -0.02024594321846962, 0.01976911351084709, 0.0012903406750410795, -0.012545784004032612, -0.03453795611858368, 0.027037549763917923, -0.0031332240905612707, 0.02335178293287754, 0.019975310191512108, -0.007571286987513304, -0.001995920203626156, -0.029125291854143143, 0.006649845279753208, -0.017217429354786873, -0.00937550887465477, -0.0011598567944020033, -0.004868176765739918, 0.011250610463321209, -0.008254313841462135, -0.0035794468130916357, 0.005696185398846865, 0.0007506850524805486, 0.013583211228251457, -0.005264461040496826, 0.012603776529431343, 0.0030397912487387657, 0.015503418631851673, 0.009027551859617233, 0.031341906636953354, 0.013273916207253933, 0.028687123209238052, -0.0514460913836956, 0.02141868881881237, 0.025839030742645264, -0.01712721772491932, 0.028352053835988045, 0.0011590513167902827, -0.018647918477654457, -0.018248412758111954, -0.009639698080718517, 0.005895938724279404, 0.017294753342866898, -0.004020836669951677, -0.022707417607307434, -0.03402246534824371, -0.007622836157679558, -0.03582668676972389, 0.020581014454364777, -0.022501220926642418, -0.020052634179592133, 0.0017961671110242605, 0.009994098916649818, -0.010367830283939838, 0.0002798959903884679, 0.026702480390667915, -0.02601945400238037, -0.014743068255484104, -0.018119540065526962, 0.013828069902956486, 0.04214146360754967, 0.014111590571701527, -0.0052225771360099316, -0.022282136604189873, -0.015142573975026608, -0.02201150357723236, -0.0222950242459774, -0.03451218083500862, -0.0299243051558733, 0.028661349788308144, -0.011637229472398758, 0.015993135049939156, 0.0016995123587548733, 0.014833278954029083, -0.009942550212144852, -0.021225377917289734, -0.0009786291047930717, -0.012081841006875038, -0.005183915141969919, 0.008988889865577221, 0.02141868881881237, 0.007236217614263296, 0.01579982601106167, 0.004075607750564814, -0.02098052017390728, -0.01509102527052164, 0.034434858709573746, -0.018712354823946953, -0.03350697457790375, -0.0012532896362245083, 0.005541537888348103, -0.0010052091674879193, -0.005473879631608725, -0.012771311216056347, 0.011295716278254986, 0.006868929602205753, 0.004143266007304192, 0.009111318737268448, 0.0013781354064121842, 0.047373704612255096, 0.0016898468602448702, 0.005837945733219385, -0.02842937782406807, 0.012139834463596344, 0.003049456747248769, -0.009781458415091038, -0.0060634734109044075, -0.010619132779538631, -0.04935834929347038, -0.00639532133936882, 0.02781078778207302, 0.00754551263526082, -0.016328206285834312, 0.007841920480132103, -0.008151215501129627, -0.012655326165258884, -0.013505887240171432, -0.04330131784081459, -0.027424167841672897, -0.010322725400328636, -0.005013158544898033, 0.004510554019361734, -0.02467917464673519, 0.00661762710660696, -0.0013386680511757731, -0.025091568008065224, 0.01799066737294197, -0.0008050533360801637, 0.0025387974455952644, -0.023441994562745094, -0.02069699950516224, 0.00900822039693594, -0.02662515640258789, 0.02933148853480816, 0.035362742841243744, 0.009207974188029766, 0.03260486200451851, 0.0218955185264349, -0.01976911351084709, 0.0019943092484027147, 0.005647858139127493, -0.0022488334216177464, 0.013724971562623978, 0.014768842607736588, -0.004587878007441759, -0.015155461616814137, -0.013312578201293945, 0.021212492138147354, -0.01936960779130459, -0.016560176387429237, 0.01889277808368206, 0.028377829119563103, 0.0299243051558733, -0.009652585722506046, -0.010006986558437347, -0.015812713652849197, 0.026986001059412956, -0.004542772192507982, -0.002176342299208045, 0.0019588691648095846, -0.013853844255208969, -0.016006022691726685, 0.04093005508184433, 0.013557436875998974, 0.009794346056878567, 0.010941315442323685, -0.017681371420621872, 0.015065250918269157, -0.020490802824497223, -0.013299690559506416, -0.013570323586463928, 0.00576062174513936, 0.02513022907078266, -0.0006491976091638207, 0.019163411110639572, 0.0018960436573252082, -0.005895938724279404, -0.006015146151185036, -0.010168077424168587, 0.0029415255412459373, 0.021070731803774834, -0.00847339816391468, -0.01027761958539486, 0.0014256573049351573, 0.02259143255650997, -0.015735389664769173, 0.002382538979873061, -0.008802023716270924, -0.016779260709881783, -0.03185739740729332, -0.004584656096994877, -0.016173558309674263, 0.026418959721922874, 0.001652795821428299, -0.01533588394522667, 0.02247544564306736, -0.030594443902373314, -0.0017977779498323798, 0.00222950242459774, -0.0035085666459053755, -0.006765831261873245, 0.007551955990493298, 0.0013724971795454621, -0.0180035550147295, -0.0011075021466240287, -0.006443648599088192, -0.0010269564809277654, -0.0029173619113862514, -0.020761435851454735, -0.041600193828344345, 0.007687272969633341, 0.02025883086025715, 0.02110939286649227, -0.02068411186337471, 0.021843967959284782, -0.02215326391160488, -0.023274458944797516, 0.02752726711332798, 0.01802932843565941, -0.012661769986152649, -0.002142513170838356, -0.0064887539483606815, 0.0027031106874346733, -0.0012500678421929479, -0.020490802824497223, 0.019743340089917183, -0.0030542893800884485, -0.004584656096994877, 0.01637975499033928, -0.023557979613542557, 0.004420342855155468, 0.007094457279890776, 0.016624612733721733, 0.0012452350929379463, 0.002564572263509035, 0.04067230969667435, -0.007764596492052078, 0.02706332504749298, -0.005615639965981245, -0.027630364522337914, -0.02382861264050007, -0.013112825341522694, -0.01931805908679962, 0.004558881279081106, -0.025259101763367653, -0.018403060734272003, 0.015348770655691624, -0.019124750047922134, 0.006353437434881926, -0.023712627589702606, -0.016753487288951874, 0.004752190783619881, 0.02126404084265232, 0.009717022068798542, 0.030310923233628273, 0.013699197210371494, -0.013969830237329006, -0.012114059180021286, -0.021779531612992287, -0.019897986203432083, -0.023416219279170036, 0.010097197256982327, 0.06129198521375656, -0.0021392912603914738, -0.007706603966653347, 0.006073138676583767, 0.0017365632811561227, -0.01935672014951706, -0.012017404660582542, -0.002277829684317112, 0.025697270408272743, -0.022204812616109848, 0.042502306401729584, 0.022411009296774864, 0.03345542401075363, -0.007758153136819601, -0.0019347055349498987, -0.055002983659505844, -0.04095583036541939, -0.018995875492691994, 0.00438812468200922, -0.01637975499033928, 0.005077594891190529, -0.048275817185640335, -0.005586643237620592, 0.0145755335688591, -0.014485321938991547, -0.007133118808269501, 0.008988889865577221, 0.0003898407449014485, -0.012114059180021286, 0.004533106926828623, 0.004719972610473633, -0.03216669335961342, -0.01962735317647457, -0.00982012040913105, -0.026547832414507866, 0.014047154225409031, -0.0007470605196431279, -0.031470779329538345, -0.007017133291810751, 0.008067447692155838, 0.012687544338405132, 0.004275361075997353, 0.01814531534910202, -0.004220589995384216, -0.00673361262306571, -0.013132155872881413, -0.010586914606392384, 0.01242335420101881, -0.005912047810852528, 0.026547832414507866, 0.0023632082156836987, -0.009407727047801018, -0.01783601939678192, 0.008312306366860867, -0.010232513770461082, -0.01248779147863388, -0.0008948617032729089, 0.023841500282287598, -0.010799555107951164, 0.028764447197318077, -0.003856523660942912, 0.00025814867694862187, -0.0010309837525710464, 3.85612111131195e-05, -0.011946524493396282, -0.008737587369978428, -0.014034266583621502, 0.0006785967270843685, 0.0077001601457595825, -0.020349042490124702, -0.01466574426740408, 0.0053578936494886875, -0.012391136027872562, -0.021238265559077263, -0.023557979613542557, 0.013982717879116535, -0.012938846834003925, -0.008241426199674606, -0.018080877140164375, 0.004571768920868635, 0.017823131754994392, 0.017049893736839294, 0.024640511721372604, -0.012745536863803864, -0.012165608815848827, 0.2110423743724823, -0.03853301703929901, 0.02515600435435772, 0.00553831597790122, -0.003334588138386607, 0.004172262270003557, 0.016611726954579353, 0.010967089794576168, -0.01934383250772953, 0.010825329460203648, -0.011733883991837502, -0.0010044036898761988, -0.01739785075187683, -0.001212211442179978, -0.00673361262306571, -0.004033723846077919, -0.020013973116874695, -0.03425443544983864, -0.0029125292785465717, 0.044718921184539795, -0.025671496987342834, 0.023712627589702606, -0.027346845716238022, -0.003592334222048521, 0.026728253811597824, 0.04324977099895477, -0.022849177941679955, 0.009594593197107315, 0.01390539389103651, 0.01288085337728262, -0.005448104813694954, 0.0024985247291624546, -0.015967361629009247, 0.023996148258447647, -0.03840414434671402, -0.006881816778331995, -0.01784890703856945, -0.02812008187174797, 0.013035501353442669, 0.028635574504733086, -0.0029254164546728134, 0.0235322043299675, -0.02217903919517994, -0.03868766501545906, 0.001680181361734867, 0.012661769986152649, -0.008512060157954693, -0.024936920031905174, -0.03678034618496895, 0.0017784470692276955, -0.026728253811597824, 0.018635032698512077, -0.005757399834692478, 0.008988889865577221, 0.011514799669384956, 0.019124750047922134, 0.0037824218161404133, 0.0014610972721129656, 0.023712627589702606, 0.024756498634815216, 0.004752190783619881, 0.030774865299463272, -0.017333414405584335, 0.041136253625154495, -0.009175756014883518, -0.013138599693775177, -0.036007110029459, -0.008305863477289677, 0.014060040935873985, 0.0017027341527864337, 0.005715516395866871, 0.005470657721161842, -0.005953931249678135, 0.006772274617105722, -0.012023848481476307, -0.014704406261444092, 0.026135439053177834, 0.06356015056371689, 0.02706332504749298, 0.039821747690439224, -0.02485959604382515, 0.0003479570150375366, 0.00576062174513936, -0.023184247314929962, 0.004230255261063576, -0.003453795565292239, 0.008428292348980904, -0.005473879631608725, -0.0023857608903199434, 0.0007571286987513304, -0.015194123610854149, -0.00420125899836421, 0.005850832909345627, 0.003682545153424144, 0.01739785075187683, 0.015451868996024132, 0.012925959192216396, 0.024924032390117645, -0.01243624184280634, 0.017939118668437004, -0.03407401219010353, 0.04729638248682022, 0.01295173354446888, 0.04425497725605965, -0.011121737770736217, 0.004194815177470446, -0.029511909931898117, 0.005509319715201855, 0.024150794371962547, -0.03306880593299866, 0.004471892025321722, -0.03255331143736839, 0.01219138316810131, -0.022668756544589996, -0.014859053306281567, 0.0196402408182621, 0.002827150747179985, -0.03871344029903412, 0.022372348234057426, -0.0030043511651456356, 0.0017687815707176924, -0.015052363276481628, 0.005663967225700617, 0.02796543575823307, -0.02127692848443985, -0.02873867377638817, -0.018338624387979507, 0.0030655658338218927, -0.02082587219774723, -0.0023019935470074415, 0.01604468561708927, 0.004407455679029226, 0.010219627059996128, -0.008202765136957169, 0.0011075021466240287, 0.011205504648387432, -0.006179458927363157, -0.04126512631773949, -0.005132365971803665, 0.015838488936424255, 0.01176610216498375, 0.0039886184968054295, 0.018931439146399498, 0.016611726954579353, -0.027475718408823013, -0.024640511721372604, -0.005634970497339964, -0.00640498660504818, -0.024369878694415092, -0.012139834463596344, 0.008879347704350948, -0.009813676588237286, -0.02233368530869484, -0.01799066737294197, 0.022849177941679955, 0.009033995680510998, -0.01832573674619198, -0.0020281383767724037, -0.003271762514486909, 0.003231489798054099, -0.01875101774930954, -0.007725934498012066, 0.01636686734855175, -0.0073973084799945354, -0.021457349881529808, -0.0039886184968054295, -0.16103966534137726, -0.0027449943590909243, 0.00856360886245966, 0.005644636228680611, 0.031006837263703346, -0.0010172909824177623, 0.002416368341073394, -0.0006379212136380374, -0.01093487162142992, 0.0008537834510207176, 0.011643673293292522, 0.0013990772422403097, -0.011759658344089985, -0.027888111770153046, 0.025684382766485214, -0.03708964213728905, -0.004787630867213011, 0.012081841006875038, 0.038893863558769226, -0.001680181361734867, 0.006694951094686985, -0.01948559284210205, 0.010541808791458607, 0.011495469138026237, 0.010219627059996128, -0.01093487162142992, -0.005177471786737442, -0.007829032838344574, 0.0025226883590221405, -0.014794616959989071, -0.0012395968660712242, -0.016573064029216766, -0.004877842031419277, 0.0021876187529414892, 0.0029769656248390675, -0.013853844255208969, -0.017449401319026947, -0.04002794623374939, 0.005567312240600586, 0.02350643090903759, 0.02023305743932724, 0.028326278552412987, -0.01592869870364666, 0.004275361075997353, 0.008769805543124676, 0.03389359265565872, 0.03425443544983864, -0.00923374854028225, -0.006482310593128204, -0.007899913005530834, 0.022539881989359856, -0.03837837278842926, -0.010458041913807392, -0.008943784050643444, 0.011559905484318733, 0.015709616243839264, -0.0013563880929723382, 0.013969830237329006, -0.014407997950911522, -0.012384692206978798, -0.0029415255412459373, 0.02009129710495472, 0.0180035550147295, -0.006105356849730015, 0.013686309568583965, -0.01427912525832653, -0.016560176387429237, 0.021496010944247246, -0.008628045208752155, -0.008434736169874668, 0.0318058505654335, -0.011360152624547482, 0.012745536863803864, 0.0034409083891659975, -0.007906356826424599, -0.002219836926087737, -0.025568397715687752, -0.0033184790518134832, 0.010754449293017387, 0.005254795309156179, -0.014910602942109108, 0.04407455772161484, 0.002637063153088093, 0.004565325099974871, -0.0077001601457595825, -0.022681642323732376, -0.009259522892534733, 0.006305110175162554, 0.012197826988995075, -0.009272410534322262, 0.0105611402541399, -0.012552227824926376, -0.02007840946316719, -0.012146277353167534, 0.02737261913716793, 0.0026934451889246702, 0.01697256974875927, -0.024344105273485184, 0.008009455166757107, -0.007861251011490822, 0.016560176387429237, -0.03108416125178337, -0.02917684055864811, 0.001320948009379208, 0.04778609797358513, -0.00017176350229419768, -0.0026789468247443438, 0.00014004867989569902, 0.007120231632143259, 0.012964621186256409, -0.021315589547157288, 0.008853573352098465, -0.0028319836128503084, -0.003898407332599163, -0.012822860851883888, -0.011656560003757477, 0.002050691284239292, -0.010503147728741169, 0.0074101961217820644, -0.015709616243839264, 0.0503377839922905, 0.004887507297098637, 0.0011550240451470017, 0.027192197740077972, -0.016457078978419304, 0.012036735191941261, -0.0954175516963005, 0.007925687357783318, 0.0033184790518134832, 0.03129035606980324, 0.025684382766485214, 0.014794616959989071, -0.0026773361023515463, -0.009530155919492245, -0.022539881989359856, 0.015683840960264206, -0.012822860851883888, -0.033275000751018524, -0.011405258439481258, 0.0023406553082168102, 0.02201150357723236, -0.007912800647318363, 0.029795430600643158, -0.015078137628734112, -0.03257908672094345, 0.0031155040487647057, -0.015877149999141693, -0.016431303694844246, 0.01577405259013176, -0.002227891469374299, -0.04698708653450012, -0.026367411017417908, -0.008183433674275875, 0.016779260709881783, 0.006649845279753208, -0.012114059180021286, 0.002590346848592162, 0.00847339816391468, -0.009923218749463558, -0.028042759746313095, 0.01799066737294197, -0.013132155872881413, -0.010271175764501095, -0.013338352553546429, 0.018415948376059532, -0.016727712005376816, 0.013557436875998974, 0.012139834463596344, 0.007951462641358376, -0.052296653389930725, 0.0014232408720999956, -0.007049351464956999, -0.01183698233217001, -0.002165065845474601, -0.008963115513324738, -0.029589233919978142, 0.0011139457346871495, -0.02113516815006733, -0.012822860851883888, -0.0191762987524271, 0.010896209627389908, -0.001928261830471456, 0.008434736169874668, 0.02408635802567005, -0.021096505224704742, -0.0022842735052108765, 0.017204541712999344, -0.008647376671433449, -0.011920750141143799, -0.008421848528087139, 0.02364819124341011, -0.01123772282153368, -0.029950078576803207, 0.01012297160923481, 0.0028464817441999912, -0.014227576553821564, -0.005483544897288084, -0.0024646956007927656, -0.0037050980608910322, 0.017900455743074417, -0.007281322963535786, 0.020181506872177124, -0.01592869870364666, -0.009343290701508522, 0.01302261371165514, -0.0008320361375808716, -0.01725609041750431, -0.015567854978144169, -0.005763843655586243, -0.003676101565361023, -0.019756225869059563, 0.0006286584539338946, 0.00021727177954744548, 0.0018718799110502005, 0.01578693836927414, -0.04121357575058937, -0.003821083577349782, 0.01494926493614912, 0.018828341737389565, 0.01546475663781166, 0.009781458415091038, 0.01145036332309246, 0.01561940461397171, -0.0033732501324266195, 0.02219192497432232, 0.01145036332309246, -0.04451272636651993, -0.0022939390037208796, -0.06067339703440666, 0.009787902235984802, 0.007642167154699564, -0.009433501400053501, 0.0006572521524503827, 0.01801644079387188, 0.02483382262289524, -0.0230682622641325, -0.010470928624272346, -0.00431724451482296, -0.0321151465177536, -0.00721688661724329, -0.023983260616660118, -0.01532299630343914, -0.0035343412309885025, 0.026882901787757874, 0.028480926528573036, -0.012758424505591393, 0.012829304672777653, 0.019266508519649506, -0.007899913005530834, -0.028068533167243004, 0.008976002223789692, -0.00016370894445572048, -0.016018910333514214, -0.016573064029216766, 0.0029060854576528072, -0.01607045903801918, -0.005696185398846865, -0.013944055885076523, 0.03641950339078903, 0.0053707812912762165, -0.00965902954339981, 0.006140796933323145, 0.00018243580416310579, -0.045208640396595, 0.013802295550704002, 0.0004309189971536398, -0.002210171427577734, 0.03203782066702843, 0.002408313564956188, 0.012230045162141323, 0.01694679632782936, -0.027501491829752922, -0.01011652871966362, 0.013454338535666466, -0.0002355959004489705, 0.010354943573474884, 0.006694951094686985, -0.019575804471969604, 0.033429648727178574, -0.001349138910882175, -0.012642438523471355, -0.02471783570945263, 0.0002404286351520568, -0.013415676541626453, 0.02483382262289524, -0.004626539535820484, -0.0007112176972441375, -0.007442414294928312, 0.039074286818504333, 0.003659992478787899, 0.013918280601501465, 0.004971275106072426, 0.011714553460478783, -0.015026588924229145, -0.016766373068094254, 0.02099340781569481, -0.00427213916555047, -0.004626539535820484, -0.023145586252212524, -0.004330131690949202, -0.0012250987347215414, 0.012693988159298897, 0.013261028565466404, 0.008602270856499672, -0.00886646006256342, 0.0007104122778400779, -0.024318329989910126, 0.014420885592699051, 0.012004517018795013, 0.016431303694844246, 0.001361220725812018, 0.0257230456918478, 0.03226979076862335, 0.00165440677665174, -0.02783656120300293, -0.007171780802309513, 0.014356449246406555, 0.005586643237620592, 0.010180965065956116, -0.0017059559468179941, -0.00781614612787962, -0.0018364398274570704, -0.0020104183349758387, 0.00011950954649364576, 0.007693716324865818, 0.0020345819648355246, -0.004384902771562338, 0.012900184839963913, -0.0017333414871245623, 0.005634970497339964, 0.020129958167672157, -0.029846981167793274, -0.02561994642019272, 0.004990605637431145, -0.05075017735362053, -0.044564273208379745, -0.004430008586496115, 0.008750475011765957, 0.0004591099568642676, 0.004806961864233017, 0.02305537462234497, 0.0009874891256913543, -0.02367396466434002, 0.0023519317619502544, 0.007004246115684509, -0.039228931069374084, -0.025542622432112694, 0.024898258969187737, -0.016250882297754288, 0.01832573674619198, 0.0020426365081220865, -0.0160575732588768, -0.0024614736903458834, -6.866513285785913e-05, 0.009839451871812344, -0.015426094643771648, 0.010599802248179913, 0.005109813529998064, -0.013815182261168957, 0.00301562761887908, 0.006124687846750021, -0.03881653770804405, -0.020323267206549644, -0.01753961108624935, 0.03819794952869415, -0.003891963744536042, -0.013944055885076523, 0.05897227302193642, 0.02858402580022812, -0.019240735098719597, 0.0030107947532087564, -0.001049509271979332, 0.004935835022479296, 0.0023760953918099403, -0.00965902954339981, 0.006965584121644497, -0.03484725207090378, -0.01904742605984211, -0.0032169916667044163, 0.0009625200182199478, -0.03858456760644913, 0.0064887539483606815, -0.003962843678891659, -0.005206468049436808, -0.002073243958875537, -0.0035504503175616264, 0.00100601464509964, 0.016173558309674263, 0.0036213304847478867, 0.006952696945518255, 0.03139345720410347, -0.036986544728279114, -0.006759387440979481, 0.016444191336631775, -0.012520009651780128, -0.009646141901612282, -0.014072928577661514, 0.002819096203893423, 0.008885791525244713, -0.02737261913716793, 0.0003443324822001159, 0.0029656891711056232, -0.004249586258083582, -0.008138327859342098, -0.00553831597790122, -0.0007269241032190621, 0.010000542737543583, -0.0016979014035314322, 0.007107344456017017, -0.011559905484318733, -0.032785285264253616, -0.050518203526735306, 0.002140902215614915, -0.015013701282441616, 0.02693445049226284, 8.140140562318265e-05], {'Title': 'Admission Services 1', 'Text': \"How to apply to Aalto? Aalto University has an extensive selection of different programmes and multiple student selections. On this page (link: https://www.aalto.fi/en/admissions) you can find information on how to apply to Aalto as well as links to the application guidelines and admission criteria for bachelor's, master's and doctoral programmes. All Aalto University's study options and programmes can be found at the link: https://www.aalto.fi/en/study-options . Application periods for studies starting in 2023; Applying to master's programmes: 1 December 2022 – 2 January 2023; Joint application to higher education, spring 2023 (Bachelor's programmes in English): 4–18 January 2023; Joint application to Finnish/Swedish degree programmes, spring 2023 (Bachelor's programmes in Finnish/Swedish): 15–30 March 2023. Applying to Bachelor's Programmes in English with Links is provided ahead. Applying to Bachelor's Program: https://www.aalto.fi/en/admission-services/applying-to-bachelors-programmes .  Admission to Bachelor's Programme in Design, Bachelor and Master of Arts (3 yrs + 2 yrs): https://www.aalto.fi/en/study-at-aalto/admission-to-bachelors-programme-in-design-bachelor-and-master-of-arts-3-yrs-2-yrs . Admission to Aalto Bachelor's Programme in Science and Technology, Bachelor and Master of Science in Technology (3 yrs + 2 yrs): https://www.aalto.fi/en/study-at-aalto/admission-to-aalto-bachelors-programme-in-science-and-technology-bachelor-and-master-of-science-in . Admission to the Bachelor’s Programme in Economics, Bachelor and Master of Science in Economics and Business Administration (3 + 2 years): https://www.aalto.fi/en/study-at-aalto/admission-to-the-bachelors-programme-in-economics-bachelor-and-master-of-science-in-economics-and . \", 'Source': 'https://www.aalto.fi/en/admissions', 'Tokens': 418})\n"
          ]
        },
        {
          "output_type": "execute_result",
          "data": {
            "text/plain": [
              "tuple"
            ]
          },
          "metadata": {},
          "execution_count": 59
        }
      ]
    },
    {
      "cell_type": "code",
      "source": [
        "def upload_vectors_to_pinecone(\n",
        "    dataframe, \n",
        "    pinecone_index,\n",
        "    clientURL,\n",
        "    chunk_size=20000, \n",
        "    upsert_size=500):\n",
        "    vectors = get_vectors_to_upload_to_pinecone(dataframe)\n",
        "    async_results = []\n",
        "    async_result = pinecone_index.upsert(vectors,namespace=clientURL,async_req=True)\n",
        "    async_results.append(async_result)\n",
        "    # wait for results\n",
        "    _ = [async_result.get() for async_result in async_results]\n",
        "    is_all_successful = all(map(lambda x: x.successful(), async_results))\n",
        "    # report chunk upload status\n",
        "    print(\n",
        "    f'All upserts in chunk successful with index'\n",
        "    f'{is_all_successful}. Vectors uploaded: {len(vectors):>3}.'\n",
        "    )\n",
        "    return async_results"
      ],
      "metadata": {
        "id": "nSshCWaITJoN"
      },
      "execution_count": 60,
      "outputs": []
    },
    {
      "cell_type": "code",
      "source": [
        "async_results = upload_vectors_to_pinecone(df_processed, index, clientURL) "
      ],
      "metadata": {
        "colab": {
          "base_uri": "https://localhost:8080/"
        },
        "id": "GG304uauz8Lm",
        "outputId": "7a416018-f98a-407b-e9b0-efdbbf9419a8"
      },
      "execution_count": 61,
      "outputs": [
        {
          "output_type": "stream",
          "name": "stdout",
          "text": [
            "All upserts in chunk successful with indexTrue. Vectors uploaded: 118.\n"
          ]
        }
      ]
    },
    {
      "cell_type": "code",
      "source": [
        "query = \"when can I apply for bachelors?\"\n",
        "query_embedding = get_embedding(query, engine=\"text-embedding-ada-002\")\n",
        "response = index.query([query_embedding], top_k=2, namespace=clientURL, include_metadata=True)"
      ],
      "metadata": {
        "id": "ZthuV_XhrL-E"
      },
      "execution_count": 62,
      "outputs": []
    },
    {
      "cell_type": "code",
      "source": [
        "from IPython.display import display, Markdown\n",
        "printmd = lambda x: display(Markdown(x))\n",
        "printmd(f\"#### A sample response from Pinecone \\n ==============\\n \\n ```python\\n{response}\\n```\")"
      ],
      "metadata": {
        "colab": {
          "base_uri": "https://localhost:8080/",
          "height": 1000
        },
        "id": "lVX9vNx1R8yL",
        "outputId": "1e3d1af7-f983-4b78-fde3-70295b522efd"
      },
      "execution_count": 63,
      "outputs": [
        {
          "output_type": "display_data",
          "data": {
            "text/plain": [
              "<IPython.core.display.Markdown object>"
            ],
            "text/markdown": "#### A sample response from Pinecone \n ==============\n \n ```python\n{'matches': [{'id': 'Masters Admissions Are you applying with an incomplete '\n                    'degree?',\n              'metadata': {'Source': 'https://www.aalto.fi/en/study-at-aalto/applying-to-masters-programmes',\n                           'Text': 'Are you applying with an incomplete '\n                                   'degree? You can apply to a master’s '\n                                   'programme with an incomplete bachelor’s '\n                                   'degree, provided that you will graduate by '\n                                   '31 July 2023. If you are accepted to the '\n                                   'university, you must deliver a certified '\n                                   'copy of your degree certificate by 17 '\n                                   'August 2023 at 15.00 (3 pm, GMT +3). In '\n                                   'case you are not able to graduate or fail '\n                                   'to deliver your degree certificate by the '\n                                   'deadline, your conditionally granted study '\n                                   'right will be cancelled. If you apply with '\n                                   'an incomplete degree, note that it may not '\n                                   'be possible to graduate during the summer '\n                                   'months. You should look into the '\n                                   'graduation schedules and requirements of '\n                                   'your own faculty or school in good time. '\n                                   'Only studies included in an official '\n                                   'transcript of records submitted with the '\n                                   'online application form by the deadline (9 '\n                                   'January 2023, 3 pm) can be taken into '\n                                   'consideration in the evaluation. Updated '\n                                   'transcripts or any studies completed after '\n                                   'the deadline cannot be taken into '\n                                   'consideration.',\n                           'Title': 'Masters Admissions Are you applying with '\n                                    'an incomplete degree?',\n                           'Tokens': 203.0},\n              'score': 0.85665977,\n              'values': []},\n             {'id': 'Admission Services Applying to Bachelors Programmes 1',\n              'metadata': {'Source': 'https://www.aalto.fi/en/admission-services/applying-to-bachelors-programmes',\n                           'Text': \"Applying to Bachelor's Programmes: On this \"\n                                   'page (link: '\n                                   'https://www.aalto.fi/en/admission-services/applying-to-bachelors-programmes '\n                                   \") are listed all Aalto University's \"\n                                   \"bachelor's programmes taught in English. \"\n                                   'Applying is possible once a year during '\n                                   'the national spring joint application to '\n                                   'higher education. You can access the study '\n                                   'option descriptions and applying '\n                                   'guidelines through the links below. The '\n                                   \"application period for bachelor's \"\n                                   'programmes in English is 4–18 January 2023 '\n                                   'for studies starting in autumn 2023. The '\n                                   'admission requirements and applying '\n                                   'guidelines are published on the Aalto '\n                                   'website and in the national Studyinfo '\n                                   'service. Study option descriptions are '\n                                   'available on our website. The application '\n                                   'form is filled out in the Studyinfo '\n                                   'service. Below you can find links to the '\n                                   'study options both on the Aalto website '\n                                   'and in the Studyinfo service. All Aalto '\n                                   \"University's study options and programmes \"\n                                   'can be found at: '\n                                   'https://www.aalto.fi/en/study-options. '\n                                   \"Bachelor's programmes in English \"\n                                   '(application period: 4–18 January 2023) '\n                                   \"Field of Art and Design: Bachelor's \"\n                                   'Programme in Design (Link: '\n                                   'https://www.aalto.fi/en/study-options/design-bachelor-of-arts-master-of-arts-art-and-design '\n                                   '). Field of Business and Economics: '\n                                   \"Bachelor's Programme in Economics (Link: \"\n                                   'https://www.aalto.fi/en/study-options/bachelors-programme-in-economics '\n                                   \"). Bachelor's Programme in International \"\n                                   'Business (Link: '\n                                   'https://www.aalto.fi/en/study-at-aalto/admission-to-the-bachelors-programme-in-international-business-bachelor-mikkeli-and-master-otaniemi '\n                                   '). ',\n                           'Title': 'Admission Services Applying to Bachelors '\n                                    'Programmes 1',\n                           'Tokens': 336.0},\n              'score': 0.833929479,\n              'values': []}],\n 'namespace': 'https://aalto.fi'}\n```"
          },
          "metadata": {}
        }
      ]
    },
    {
      "cell_type": "code",
      "source": [
        "def get_context_string(response):\n",
        "    context_string = \"--- Start Context ---\\n\"\n",
        "    for i in response['matches']:\n",
        "        context_string += str(i['metadata']['Text'])\n",
        "        context_string += \"\\n\"\n",
        "    context_string += \"SOURCES:\\n\"\n",
        "    for i in response['matches']:\n",
        "        context_string += str(i['metadata']['Source'])\n",
        "        context_string += \"\\n\"\n",
        "    context_string += \"--- End Context ---\"\n",
        "    return context_string\n",
        "\n",
        "print(get_context_string(response))"
      ],
      "metadata": {
        "colab": {
          "base_uri": "https://localhost:8080/"
        },
        "id": "1o2POdZaurj2",
        "outputId": "96a1b702-fd20-441f-d23e-88144774cd8b"
      },
      "execution_count": 68,
      "outputs": [
        {
          "output_type": "stream",
          "name": "stdout",
          "text": [
            "--- Start Context ---\n",
            "Are you applying with an incomplete degree? You can apply to a master’s programme with an incomplete bachelor’s degree, provided that you will graduate by 31 July 2023. If you are accepted to the university, you must deliver a certified copy of your degree certificate by 17 August 2023 at 15.00 (3 pm, GMT +3). In case you are not able to graduate or fail to deliver your degree certificate by the deadline, your conditionally granted study right will be cancelled. If you apply with an incomplete degree, note that it may not be possible to graduate during the summer months. You should look into the graduation schedules and requirements of your own faculty or school in good time. Only studies included in an official transcript of records submitted with the online application form by the deadline (9 January 2023, 3 pm) can be taken into consideration in the evaluation. Updated transcripts or any studies completed after the deadline cannot be taken into consideration.\n",
            "Applying to Bachelor's Programmes: On this page (link: https://www.aalto.fi/en/admission-services/applying-to-bachelors-programmes ) are listed all Aalto University's bachelor's programmes taught in English. Applying is possible once a year during the national spring joint application to higher education. You can access the study option descriptions and applying guidelines through the links below. The application period for bachelor's programmes in English is 4–18 January 2023 for studies starting in autumn 2023. The admission requirements and applying guidelines are published on the Aalto website and in the national Studyinfo service. Study option descriptions are available on our website. The application form is filled out in the Studyinfo service. Below you can find links to the study options both on the Aalto website and in the Studyinfo service. All Aalto University's study options and programmes can be found at: https://www.aalto.fi/en/study-options. Bachelor's programmes in English (application period: 4–18 January 2023) Field of Art and Design: Bachelor's Programme in Design (Link: https://www.aalto.fi/en/study-options/design-bachelor-of-arts-master-of-arts-art-and-design ). Field of Business and Economics: Bachelor's Programme in Economics (Link: https://www.aalto.fi/en/study-options/bachelors-programme-in-economics ). Bachelor's Programme in International Business (Link: https://www.aalto.fi/en/study-at-aalto/admission-to-the-bachelors-programme-in-international-business-bachelor-mikkeli-and-master-otaniemi ). \n",
            "SOURCES:\n",
            "https://www.aalto.fi/en/study-at-aalto/applying-to-masters-programmes\n",
            "https://www.aalto.fi/en/admission-services/applying-to-bachelors-programmes\n",
            "--- End Context ---\n"
          ]
        }
      ]
    }
  ]
}
